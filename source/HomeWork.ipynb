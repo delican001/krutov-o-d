{
 "cells": [
  {
   "cell_type": "code",
   "execution_count": null,
   "metadata": {
    "collapsed": false
   },
   "outputs": [
    {
     "data": {
      "text/plain": [
       "<matplotlib.figure.Figure at 0x2641e3be550>"
      ]
     },
     "execution_count": 0,
     "metadata": {},
     "output_type": "execute_result"
    }
   ],
   "source": [
    "import numpy as np\n",
    "import cv2 as cv\n",
    "%matplotlib inline\n",
    "import matplotlib.pyplot as plt\n",
    "def interrupt_function():\n",
    "    while(True):\n",
    "        k = cv.waitKey(33)\n",
    "        if k == -1:  # if no key was pressed, -1 is returned\n",
    "            continue\n",
    "        else:\n",
    "            break\n",
    "img = cv.imread(r\"c://png.png\")\n",
    "plt.imshow(img)\n",
    "plt.show(block=False)\n",
    "img_colorless = cv.cvtColor(img,cv.COLOR_RGB2GRAY)\n",
    "plt.imshow(img_colorless,cmap='gray')\n",
    "plt.show(block=False)\n",
    "img_binarised = cv.threshold(img_colorless,127,255,cv.THRESH_BINARY)[1]\n",
    "plt.imshow(img_binarised,cmap='gray')\n",
    "imgqwe = cv.connectedComponents(img_binarised)\n",
    "q = \n",
    "plt.show()\n"
   ]
  },
  {
   "cell_type": "code",
   "execution_count": null,
   "metadata": {
    "collapsed": false
   },
   "outputs": [],
   "source": [
    ""
   ]
  },
  {
   "cell_type": "code",
   "execution_count": 3,
   "metadata": {},
   "outputs": [],
   "source": []
  },
  {
   "cell_type": "code",
   "execution_count": null,
   "metadata": {},
   "outputs": [],
   "source": []
  }
 ],
 "metadata": {
  "kernelspec": {
   "display_name": "Python 2",
   "language": "python",
   "name": "python2"
  },
  "language_info": {
   "codemirror_mode": {
    "name": "ipython",
    "version": 2
   },
   "file_extension": ".py",
   "mimetype": "text/x-python",
   "name": "python",
   "nbconvert_exporter": "python",
   "pygments_lexer": "ipython2",
   "version": "2.7.6"
  }
 },
 "nbformat": 4,
 "nbformat_minor": 0
}
